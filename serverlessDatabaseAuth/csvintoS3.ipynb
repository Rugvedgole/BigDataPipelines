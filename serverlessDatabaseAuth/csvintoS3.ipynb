{
  "nbformat": 4,
  "nbformat_minor": 0,
  "metadata": {
    "colab": {
      "name": "Untitled0.ipynb",
      "provenance": []
    },
    "kernelspec": {
      "name": "python3",
      "display_name": "Python 3"
    }
  },
  "cells": [
    {
      "cell_type": "code",
      "metadata": {
        "id": "YHwUyX1GXy5A",
        "outputId": "6e6b2a32-7436-4ac4-c104-5967101a5605",
        "colab": {
          "base_uri": "https://localhost:8080/",
          "height": 35
        }
      },
      "source": [
        "pwd"
      ],
      "execution_count": null,
      "outputs": [
        {
          "output_type": "execute_result",
          "data": {
            "application/vnd.google.colaboratory.intrinsic+json": {
              "type": "string"
            },
            "text/plain": [
              "'/content/drive/My Drive'"
            ]
          },
          "metadata": {
            "tags": []
          },
          "execution_count": 8
        }
      ]
    },
    {
      "cell_type": "code",
      "metadata": {
        "id": "MT7xEZEYORQW",
        "outputId": "eb3aee24-7516-4a3a-9ed1-bc99abbb1fe1",
        "colab": {
          "base_uri": "https://localhost:8080/"
        }
      },
      "source": [
        "!pip install diagrams"
      ],
      "execution_count": 1,
      "outputs": [
        {
          "output_type": "stream",
          "text": [
            "Collecting diagrams\n",
            "\u001b[?25l  Downloading https://files.pythonhosted.org/packages/0e/e9/3b53691337aa1e0648937fe08bdf81ec4daab190b18c4820e9a2ce27144d/diagrams-0.17.0-py3-none-any.whl (15.2MB)\n",
            "\u001b[K     |████████████████████████████████| 15.2MB 258kB/s \n",
            "\u001b[?25hCollecting contextvars<3.0,>=2.4; python_version >= \"3.6\" and python_version < \"3.7\"\n",
            "  Downloading https://files.pythonhosted.org/packages/83/96/55b82d9f13763be9d672622e1b8106c85acb83edd7cc2fa5bc67cd9877e9/contextvars-2.4.tar.gz\n",
            "Requirement already satisfied: jinja2<3.0,>=2.10 in /usr/local/lib/python3.6/dist-packages (from diagrams) (2.11.2)\n",
            "Collecting graphviz<0.14.0,>=0.13.2\n",
            "  Downloading https://files.pythonhosted.org/packages/f5/74/dbed754c0abd63768d3a7a7b472da35b08ac442cf87d73d5850a6f32391e/graphviz-0.13.2-py2.py3-none-any.whl\n",
            "Collecting immutables>=0.9\n",
            "\u001b[?25l  Downloading https://files.pythonhosted.org/packages/99/e0/ea6fd4697120327d26773b5a84853f897a68e33d3f9376b00a8ff96e4f63/immutables-0.14-cp36-cp36m-manylinux1_x86_64.whl (98kB)\n",
            "\u001b[K     |████████████████████████████████| 102kB 8.2MB/s \n",
            "\u001b[?25hRequirement already satisfied: MarkupSafe>=0.23 in /usr/local/lib/python3.6/dist-packages (from jinja2<3.0,>=2.10->diagrams) (1.1.1)\n",
            "Building wheels for collected packages: contextvars\n",
            "  Building wheel for contextvars (setup.py) ... \u001b[?25l\u001b[?25hdone\n",
            "  Created wheel for contextvars: filename=contextvars-2.4-cp36-none-any.whl size=7666 sha256=b9b9434ad563f049acf564aa7833c2767f7209eec644942df5f9559866cec48b\n",
            "  Stored in directory: /root/.cache/pip/wheels/a5/7d/68/1ebae2668bda2228686e3c1cf16f2c2384cea6e9334ad5f6de\n",
            "Successfully built contextvars\n",
            "Installing collected packages: immutables, contextvars, graphviz, diagrams\n",
            "  Found existing installation: graphviz 0.10.1\n",
            "    Uninstalling graphviz-0.10.1:\n",
            "      Successfully uninstalled graphviz-0.10.1\n",
            "Successfully installed contextvars-2.4 diagrams-0.17.0 graphviz-0.13.2 immutables-0.14\n"
          ],
          "name": "stdout"
        }
      ]
    },
    {
      "cell_type": "code",
      "metadata": {
        "id": "OM0N1ucZORPG",
        "outputId": "9cb1b292-92af-4873-9a80-b00e8007ba80",
        "colab": {
          "base_uri": "https://localhost:8080/"
        }
      },
      "source": [
        "!pip install graphviz"
      ],
      "execution_count": 2,
      "outputs": [
        {
          "output_type": "stream",
          "text": [
            "Requirement already satisfied: graphviz in /usr/local/lib/python3.6/dist-packages (0.13.2)\n"
          ],
          "name": "stdout"
        }
      ]
    },
    {
      "cell_type": "code",
      "metadata": {
        "id": "aGx-rnc3OYyX"
      },
      "source": [
        "from diagrams import Cluster, Diagram, Edge\n",
        "from diagrams.aws.general import GenericFirewall\n",
        "from diagrams.aws.mobile import APIGateway\n",
        "from diagrams.aws.general import Users\n",
        "from diagrams.aws.compute import Lambda\n",
        "from diagrams.aws.database import Dynamodb\n",
        "from diagrams.aws.ml import Sagemaker\n",
        "from diagrams.aws.analytics import Cloudsearch\n",
        "from diagrams.aws.enablement import ManagedServices\n",
        "from diagrams.programming.language import Nodejs\n",
        "with Diagram(\"Moody's Serverless Architecture\", show=False, direction=\"LR\"):\n",
        "    Firewall = GenericFirewall(\"Firewall\")\n",
        "    ManagedServices = ManagedServices(\"Application\")\n",
        "    Users = Users(\"Users\")\n",
        "    APIGateway = APIGateway(\"API Gateway\")\n",
        "    Database = Dynamodb(\"NoSQL Database\")\n",
        "    Ml_Fabrics = Sagemaker(\"ML Fabric\")\n",
        "    Cloudsearch = Cloudsearch(\"Search\")\n",
        "    Service = Lambda(\"Service\")\n",
        "    Users >> Edge(color=\"darkgreen\") >> Firewall >> Edge(color=\"darkgreen\") >> ManagedServices\n",
        "    Users >> Edge(color=\"darkgreen\") << APIGateway >> Edge(color=\"darkgreen\") << Service  >> Edge(color=\"darkgreen\") << Database\n",
        "    Service >> Edge(color=\"darkgreen\") << Cloudsearch << Edge(color=\"darkgreen\") << Ml_Fabrics"
      ],
      "execution_count": 3,
      "outputs": []
    },
    {
      "cell_type": "code",
      "metadata": {
        "id": "qTOdM_QFXyy6",
        "outputId": "61bf88b3-daa1-486f-d826-3bec77676418",
        "colab": {
          "base_uri": "https://localhost:8080/",
          "height": 34
        }
      },
      "source": [
        "from google.colab import drive \n",
        "drive.mount('/content/drive')"
      ],
      "execution_count": null,
      "outputs": [
        {
          "output_type": "stream",
          "text": [
            "Drive already mounted at /content/drive; to attempt to forcibly remount, call drive.mount(\"/content/drive\", force_remount=True).\n"
          ],
          "name": "stdout"
        }
      ]
    },
    {
      "cell_type": "code",
      "metadata": {
        "id": "PNhrbf0dsTG4",
        "outputId": "8a1cb9f2-02a6-469a-dd6f-a989baa87e2b",
        "colab": {
          "base_uri": "https://localhost:8080/",
          "height": 34
        }
      },
      "source": [
        "%cd /content/drive/My\\ Drive/content/archive"
      ],
      "execution_count": null,
      "outputs": [
        {
          "output_type": "stream",
          "text": [
            "/content/drive/My Drive/content/archive\n"
          ],
          "name": "stdout"
        }
      ]
    },
    {
      "cell_type": "code",
      "metadata": {
        "id": "jbzbSuK0sx9H",
        "outputId": "f1d622b7-c94c-4b66-cd67-b914a53b47d3",
        "colab": {
          "base_uri": "https://localhost:8080/",
          "height": 185
        }
      },
      "source": [
        "import os,io\n",
        "import pandas as pd\n",
        "import boto3\n",
        "s3 = boto3.resource('s3',\n",
        "         aws_access_key_id=\"\",\n",
        "         aws_secret_access_key= \"\")\n",
        "fileNames = os.listdir()\n",
        "fileNames"
      ],
      "execution_count": null,
      "outputs": [
        {
          "output_type": "execute_result",
          "data": {
            "text/plain": [
              "['C13-1.csv',\n",
              " 'C13-2.csv',\n",
              " 'C11.csv',\n",
              " 'C14.csv',\n",
              " 'C15.csv',\n",
              " 'C16.csv',\n",
              " 'C7-2.csv',\n",
              " 'C9.csv',\n",
              " 'C8.csv',\n",
              " 'C7-1.csv']"
            ]
          },
          "metadata": {
            "tags": []
          },
          "execution_count": 78
        }
      ]
    },
    {
      "cell_type": "code",
      "metadata": {
        "id": "27rzwvz6tiQJ"
      },
      "source": [
        "for i in range(10):\n",
        "  temp_df=pd.read_csv(fileNames[i])\n",
        "  temp_df['Timestamp']=temp_df['Timestamp'].astype('string')\n",
        "  temp_df['Timestamp'] = temp_df['Timestamp']+\"/\"+fileNames[i][:-4]\n",
        "  temp_df.reset_index(drop=True, inplace=True)\n",
        "  with open('/content/drive/My Drive/content/archive/new'+ str(i) +'.csv', 'w') as f:\n",
        "    temp_df[1:].to_csv(f, header=False, index=False)"
      ],
      "execution_count": null,
      "outputs": []
    },
    {
      "cell_type": "code",
      "metadata": {
        "id": "X0J5RPgPs29u"
      },
      "source": [
        "for i in range(10):\n",
        "  s3.meta.client.upload_file('new'+ str(i) +'.csv', 'prodplant', 'new'+ str(i) +'.csv')"
      ],
      "execution_count": null,
      "outputs": []
    }
  ]
}
